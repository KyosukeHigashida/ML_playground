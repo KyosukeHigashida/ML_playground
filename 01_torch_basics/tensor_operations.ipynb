{
 "cells": [
  {
   "cell_type": "code",
   "execution_count": 12,
   "id": "b4681456",
   "metadata": {},
   "outputs": [
    {
     "name": "stdout",
     "output_type": "stream",
     "text": [
      "a: tensor([1., 2., 3.])\n",
      "b: tensor([0.1000, 0.2000, 0.3000])\n",
      "a + b: tensor([1.1000, 2.2000, 3.3000])\n",
      "a * b: tensor([0.1000, 0.4000, 0.9000])\n"
     ]
    }
   ],
   "source": [
    "import torch\n",
    "\n",
    "# 基本的なテンソル操作\n",
    "a = torch.tensor([1.0, 2.0, 3.0])\n",
    "b = torch.tensor([0.1, 0.2, 0.3])\n",
    "\n",
    "print(\"a:\", a)\n",
    "print(\"b:\", b)\n",
    "print(\"a + b:\", a + b)\n",
    "print(\"a * b:\", a * b)"
   ]
  },
  {
   "cell_type": "code",
   "execution_count": 13,
   "id": "4cf60c23",
   "metadata": {},
   "outputs": [
    {
     "name": "stdout",
     "output_type": "stream",
     "text": [
      "mat1: tensor([[-0.5943, -0.6558, -2.2494],\n",
      "        [ 0.2790,  0.0730,  0.1584]])\n",
      "mat2 tensor([[ 0.3094, -0.2716,  0.5562, -0.7679],\n",
      "        [ 2.8732, -0.0752, -0.5912, -0.9183],\n",
      "        [ 0.4357, -0.8360, -0.1184,  0.4790]])\n",
      "mat1 @ mat2 = \n",
      " tensor([[-3.0483,  2.0913,  0.3235, -0.0189],\n",
      "        [ 0.3650, -0.2137,  0.0933, -0.2054]])\n"
     ]
    }
   ],
   "source": [
    "# 行列の演算\n",
    "mat1 = torch.randn(2, 3)\n",
    "mat2 = torch.randn(3, 4)\n",
    "\n",
    "print(\"mat1:\", mat1)\n",
    "print(\"mat2\", mat2)\n",
    "print(\"mat1 @ mat2 = \\n\", mat1 @ mat2)"
   ]
  },
  {
   "cell_type": "code",
   "execution_count": 14,
   "id": "854dd4ff",
   "metadata": {},
   "outputs": [
    {
     "name": "stdout",
     "output_type": "stream",
     "text": [
      "dy/dx = tensor(8.)\n"
     ]
    }
   ],
   "source": [
    "# 勾配追跡の確認\n",
    "x = torch.tensor(3.0, requires_grad=True)\n",
    "y = x**2 + 2 * x + 1\n",
    "y.backward()\n",
    "print(\"dy/dx =\", x.grad)"
   ]
  }
 ],
 "metadata": {
  "kernelspec": {
   "display_name": "Python 3 (ipykernel)",
   "language": "python",
   "name": "python3"
  },
  "language_info": {
   "codemirror_mode": {
    "name": "ipython",
    "version": 3
   },
   "file_extension": ".py",
   "mimetype": "text/x-python",
   "name": "python",
   "nbconvert_exporter": "python",
   "pygments_lexer": "ipython3",
   "version": "3.12.4"
  }
 },
 "nbformat": 4,
 "nbformat_minor": 5
}
